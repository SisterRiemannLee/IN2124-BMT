{
 "cells": [
  {
   "cell_type": "markdown",
   "metadata": {},
   "source": [
    "## Random vectors"
   ]
  },
  {
   "cell_type": "code",
   "execution_count": 1,
   "metadata": {},
   "outputs": [],
   "source": [
    "# the required imports\n",
    "import numpy as np\n",
    "import matplotlib.pyplot as plt\n",
    "from numpy.linalg import det, inv\n",
    "from matplotlib import cm\n",
    "from mpl_toolkits.mplot3d import Axes3D\n",
    "from ipywidgets import interactive, fixed, FloatSlider, Checkbox"
   ]
  },
  {
   "cell_type": "markdown",
   "metadata": {},
   "source": [
    "### The Normal (Gaussian) distribution in 2D"
   ]
  },
  {
   "cell_type": "code",
   "execution_count": 2,
   "metadata": {},
   "outputs": [],
   "source": [
    "# 2D Gaussian\n",
    "def gaussian2D(coords, mu, C):\n",
    "    det_C = det(C)\n",
    "    C_inv = inv(C)\n",
    "    \n",
    "    temp1 = 1/np.sqrt((2*np.pi)**2*det_C)\n",
    "    temp2 = np.exp(-0.5*((coords-mu).T.dot(C_inv).dot(coords-mu)))\n",
    "    \n",
    "    return temp1*temp2"
   ]
  },
  {
   "cell_type": "code",
   "execution_count": 3,
   "metadata": {},
   "outputs": [],
   "source": [
    "# interactive plot of 2D Gaussian\n",
    "def plotGaussian2D(mu1, mu2, c1, c2, projections):\n",
    "    x = np.linspace(-10, 10, 100)\n",
    "    y = np.linspace(-10, 10, 100)\n",
    "    # vector mu\n",
    "    mu = np.array([mu1, mu2])\n",
    "    # covariance matrix C\n",
    "    C = np.array([[c1, 0],\n",
    "                 [0, c2]])\n",
    "    \n",
    "    # a grid of x and y coordinates\n",
    "    xx, yy = np.meshgrid(x, y)\n",
    "    grid = np.array([xx.flatten(), yy.flatten()])\n",
    "    surface = []\n",
    "    \n",
    "    # for each pair of coordinates x and y calculate z\n",
    "    for i in range(grid.shape[1]):\n",
    "        z = gaussian2D(grid[:, i], mu, C)\n",
    "        surface.append(z)\n",
    "    \n",
    "    surface = (np.asarray(surface)).reshape((100, 100))\n",
    "    \n",
    "    # make plot rotatable\n",
    "    %matplotlib notebook\n",
    "    \n",
    "    fig = plt.figure(figsize=(5, 5))\n",
    "    ax = fig.gca(projection='3d')\n",
    "    ax.plot_surface(xx, yy, surface, cmap=cm.coolwarm)\n",
    "    if projections:\n",
    "        ax.contour(xx, yy, surface, zdir='x', offset=-11)\n",
    "        ax.contour(xx, yy, surface, zdir='y', offset=11)\n",
    "    plt.show()"
   ]
  },
  {
   "cell_type": "code",
   "execution_count": 4,
   "metadata": {},
   "outputs": [
    {
     "data": {
      "application/vnd.jupyter.widget-view+json": {
       "model_id": "c152e9241c994f6eaa56ed340a172732",
       "version_major": 2,
       "version_minor": 0
      },
      "text/plain": [
       "interactive(children=(FloatSlider(value=0.0, continuous_update=False, description='mu1', max=10.0, step=1.0), …"
      ]
     },
     "metadata": {},
     "output_type": "display_data"
    }
   ],
   "source": [
    "iplot = interactive(plotGaussian2D, mu1=FloatSlider(min=0, max=10, step=1, continuous_update=False),\\\n",
    "                     mu2=FloatSlider(min=0, max=10, step=1, continuous_update=False),\\\n",
    "                     c1=FloatSlider(min=1, max=10, step=1, continuous_update=False),\\\n",
    "                     c2=FloatSlider(min=1, max=10, step=1, continuous_update=False),\\\n",
    "                     projections=Checkbox(value=False, description='marginals', disabled=False))\n",
    "iplot"
   ]
  },
  {
   "cell_type": "code",
   "execution_count": null,
   "metadata": {},
   "outputs": [],
   "source": []
  }
 ],
 "metadata": {
  "kernelspec": {
   "display_name": "Python 3",
   "language": "python",
   "name": "python3"
  },
  "language_info": {
   "codemirror_mode": {
    "name": "ipython",
    "version": 3
   },
   "file_extension": ".py",
   "mimetype": "text/x-python",
   "name": "python",
   "nbconvert_exporter": "python",
   "pygments_lexer": "ipython3",
   "version": "3.7.3"
  }
 },
 "nbformat": 4,
 "nbformat_minor": 2
}
