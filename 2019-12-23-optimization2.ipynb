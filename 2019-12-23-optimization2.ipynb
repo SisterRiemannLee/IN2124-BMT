{
 "cells": [
  {
   "cell_type": "markdown",
   "metadata": {},
   "source": [
    "## Tikhonov regularization"
   ]
  },
  {
   "cell_type": "code",
   "execution_count": 30,
   "metadata": {},
   "outputs": [],
   "source": [
    "# the required imports\n",
    "import numpy as np\n",
    "from scipy.linalg import lu, solve_triangular\n",
    "from numpy.linalg import qr, svd, inv\n",
    "import matplotlib.pyplot as plt\n",
    "from skimage.transform import radon, rescale\n",
    "from ipywidgets import interactive, IntSlider, FloatSlider, fixed"
   ]
  },
  {
   "cell_type": "markdown",
   "metadata": {},
   "source": [
    "_setup some helper functions_"
   ]
  },
  {
   "cell_type": "code",
   "execution_count": 2,
   "metadata": {},
   "outputs": [],
   "source": [
    "# helper function to load Shepp-Logan phantom \n",
    "def getPhantom(size):\n",
    "    if size == 128:\n",
    "        return plt.imread('phantom.png')\n",
    "    elif size == 32:\n",
    "        p = plt.imread('phantom.png')\n",
    "        return rescale(p, scale=1/4, mode='reflect', multichannel=False)\n",
    "    elif size == 4:\n",
    "        p = plt.imread('phantom.png')\n",
    "        return rescale(p, scale=1/32, mode='reflect', multichannel=False)\n",
    "    else:\n",
    "        raise NotImplementedError\n",
    "\n",
    "\n",
    "# compute the matrix of the Radon transform (and also do the right hand side)\n",
    "def computeRadonMatrixRhs(image, numberOfAngles):\n",
    "    angles = np.linspace(0, 180, numberOfAngles) \n",
    "    \n",
    "    sizeX, sizeY = image.shape\n",
    "    if sizeX != sizeY:                   # this works only for square images!\n",
    "        raise ValueError\n",
    "    size = image.size\n",
    "    \n",
    "    M = np.zeros((angles.size * sizeX, size)) # initialize matrix with zeros\n",
    "    basisVec = np.zeros(size)            # initialize basis vector with zeros\n",
    "    \n",
    "    for i in range(size):\n",
    "        basisVec[i] = 1                                # set to i-th basis vector\n",
    "        bVecAsImg = basisVec.reshape(sizeX, sizeY)     # reshape to a 2d image\n",
    "        \n",
    "        column = radon(bVecAsImg, angles, circle=True) # compute Radon transform of this basis vector\n",
    "        M[:, i] = column.flatten()                     # linearize and put into matrix as i-th column\n",
    "        \n",
    "        basisVec[i] = 0                                # reset basis vector to zero\n",
    "        \n",
    "    rhs = radon(image, angles, circle=True) # compute the right hand side\n",
    "    return (M, rhs.flatten())"
   ]
  },
  {
   "cell_type": "markdown",
   "metadata": {},
   "source": [
    "### Setup our matrix (and right-hand side)"
   ]
  },
  {
   "cell_type": "code",
   "execution_count": 37,
   "metadata": {},
   "outputs": [
    {
     "name": "stdout",
     "output_type": "stream",
     "text": [
      "A has size =  (1024, 1024) , and b has size =  1024\n"
     ]
    },
    {
     "data": {
      "image/png": "[encoded data removed]",
      "text/plain": [
       "<Figure size 1440x432 with 3 Axes>"
      ]
     },
     "metadata": {
      "needs_background": "light"
     },
     "output_type": "display_data"
    }
   ],
   "source": [
    "image = getPhantom(32)\n",
    "\n",
    "plt.figure(figsize=(20,6))\n",
    "plt.subplot(1, 3, 1, title='original phantom')\n",
    "plt.imshow(image); plt.axis('off')\n",
    "\n",
    "# get matrix A and no-noise right-hand-side b\n",
    "A, b = computeRadonMatrixRhs(image, 32)\n",
    "print(\"A has size = \", A.shape, \", and b has size = \", b.size)\n",
    "\n",
    "# precompute the SVD\n",
    "U, Sigma, Vt = svd(A)\n",
    "SigmaInvDiag = inv(np.diag(Sigma))\n",
    "\n",
    "# add some white noise to right-hand-side b\n",
    "noise = max(b) * 0.01 * np.random.randn(b.size)\n",
    "bNoisy = b + noise\n",
    "\n",
    "plt.subplot(1, 3, 2, title='Radon transform (no noise)')\n",
    "plt.imshow( b.reshape(32, 32) ); plt.axis('off')\n",
    "\n",
    "plt.subplot(1, 3, 3, title='Radon transform (with noise)')\n",
    "plt.imshow( bNoisy.reshape(32, 32) ); plt.axis('off')\n",
    "plt.show()"
   ]
  },
  {
   "cell_type": "markdown",
   "metadata": {},
   "source": [
    "## Compute solutions with Truncated SVD and Tikhonov regularization"
   ]
  },
  {
   "cell_type": "code",
   "execution_count": 27,
   "metadata": {},
   "outputs": [],
   "source": [
    "def computeSolutions(k, alpha, withNoise):\n",
    "    # set right hand side\n",
    "    if (withNoise):\n",
    "        rhs = bNoisy\n",
    "    else:\n",
    "        rhs = b\n",
    "\n",
    "    # compute the truncated SVD solution up to degree k\n",
    "    truncSigmaInv = np.copy(SigmaInvDiag)\n",
    "    truncSigmaInv[k:, :] = 0; truncSigmaInv[:, k:] = 0 # truncate at k\n",
    "    truncSVD = np.dot(Vt.T, np.dot(truncSigmaInv, np.dot(U.T, rhs)))\n",
    "    \n",
    "    # compute the Tikhonov regularized solution\n",
    "    D = [s/(s**2 + alpha) for s in Sigma]\n",
    "    D = np.diag(D)\n",
    "    tikhonov = np.dot(Vt.T, np.dot(D, np.dot(U.T, rhs)))\n",
    "    \n",
    "    plt.figure(figsize=(14,6))\n",
    "    plt.subplot(1, 2, 1, title='Truncated SVD'); plt.imshow(truncSVD.reshape(32, 32)); plt.axis('off')\n",
    "    plt.subplot(1, 2, 2, title='Tikhonov'); plt.imshow(tikhonov.reshape(32, 32)); plt.axis('off')\n",
    "    plt.show()"
   ]
  },
  {
   "cell_type": "markdown",
   "metadata": {},
   "source": [
    "### first without noise"
   ]
  },
  {
   "cell_type": "code",
   "execution_count": 42,
   "metadata": {},
   "outputs": [
    {
     "data": {
      "application/vnd.jupyter.widget-view+json": {
       "model_id": "cc52349a0905463a82ecef355b4ecb75",
       "version_major": 2,
       "version_minor": 0
      },
      "text/plain": [
       "interactive(children=(IntSlider(value=500, continuous_update=False, description='k', max=2000, min=1, step=10)…"
      ]
     },
     "metadata": {},
     "output_type": "display_data"
    }
   ],
   "source": [
    "iplot = interactive(computeSolutions, withNoise=fixed(False),\n",
    "                    k=IntSlider(min=1, max=2000, step=10, value=500, continuous_update=False),\n",
    "                    alpha=FloatSlider(min=0, max=100, step=0.1, value=0.1, continuous_update=False))\n",
    "iplot"
   ]
  },
  {
   "cell_type": "markdown",
   "metadata": {},
   "source": [
    "### now with noise!"
   ]
  },
  {
   "cell_type": "code",
   "execution_count": 41,
   "metadata": {},
   "outputs": [
    {
     "data": {
      "application/vnd.jupyter.widget-view+json": {
       "model_id": "7382eeeaa32e454683a8e779ee030a47",
       "version_major": 2,
       "version_minor": 0
      },
      "text/plain": [
       "interactive(children=(IntSlider(value=500, continuous_update=False, description='k', max=2000, min=1, step=10)…"
      ]
     },
     "metadata": {},
     "output_type": "display_data"
    }
   ],
   "source": [
    "iplot = interactive(computeSolutions, withNoise=fixed(True),\n",
    "                    k=IntSlider(min=1, max=2000, step=10, value=500, continuous_update=False),\n",
    "                    alpha=FloatSlider(min=0, max=100, step=0.1, value=0.1, continuous_update=False))\n",
    "iplot"
   ]
  }
 ],
 "metadata": {
  "kernelspec": {
   "display_name": "Python 3",
   "language": "python",
   "name": "python3"
  },
  "language_info": {
   "codemirror_mode": {
    "name": "ipython",
    "version": 3
   },
   "file_extension": ".py",
   "mimetype": "text/x-python",
   "name": "python",
   "nbconvert_exporter": "python",
   "pygments_lexer": "ipython3",
   "version": "3.6.5"
  }
 },
 "nbformat": 4,
 "nbformat_minor": 2
}
