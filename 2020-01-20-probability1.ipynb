{
 "cells": [
  {
   "cell_type": "markdown",
   "metadata": {},
   "source": [
    "## Probability basics"
   ]
  },
  {
   "cell_type": "code",
   "execution_count": 1,
   "metadata": {},
   "outputs": [],
   "source": [
    "# the required imports\n",
    "import numpy as np\n",
    "import matplotlib.pyplot as plt\n",
    "from scipy.special import factorial\n",
    "from scipy.stats import norm\n",
    "from ipywidgets import interactive, fixed, IntSlider, FloatSlider"
   ]
  },
  {
   "cell_type": "markdown",
   "metadata": {},
   "source": [
    "### The Poisson distribution"
   ]
  },
  {
   "cell_type": "code",
   "execution_count": 2,
   "metadata": {},
   "outputs": [],
   "source": [
    "# Poisson\n",
    "def poissonDistribution(l, x):\n",
    "    return (np.exp(-l)*(l**x))/factorial(x)\n",
    "\n",
    "def plotPoissonDistribution(l):\n",
    "    x = np.linspace(0, 25, 25)\n",
    "    \n",
    "    fig, ax = plt.subplots(1, figsize=(7, 6))\n",
    "    ax.plot(x, poissonDistribution(l, x), 'ro')\n",
    "    ax.spines['left'].set_position('zero')\n",
    "    ax.spines['bottom'].set_position('zero')\n",
    "    ax.spines['right'].set_visible(False)\n",
    "    ax.spines['top'].set_visible(False)\n",
    "    plt.show()"
   ]
  },
  {
   "cell_type": "code",
   "execution_count": 3,
   "metadata": {},
   "outputs": [
    {
     "data": {
      "application/vnd.jupyter.widget-view+json": {
       "model_id": "321963ddc5204b9bb1ae098669cc9a13",
       "version_major": 2,
       "version_minor": 0
      },
      "text/plain": [
       "interactive(children=(IntSlider(value=5, continuous_update=False, description='l', max=20, min=1), Output()), …"
      ]
     },
     "metadata": {},
     "output_type": "display_data"
    }
   ],
   "source": [
    "iPoissonPlot = interactive(plotPoissonDistribution, l=IntSlider(value=5, min=1, max=20, step=1, continuous_update=False))\n",
    "iPoissonPlot"
   ]
  },
  {
   "cell_type": "markdown",
   "metadata": {},
   "source": [
    "### Uniform distribution"
   ]
  },
  {
   "cell_type": "code",
   "execution_count": 10,
   "metadata": {},
   "outputs": [],
   "source": [
    "# Uniform distribution\n",
    "def uniformDistributionPDF(a, b, x):\n",
    "    if a >= b:\n",
    "        raise Exception(\"a musst be smaller than b\")\n",
    "    output = []\n",
    "    \n",
    "    for i in x:\n",
    "        if i <= a:\n",
    "            output.append(0)\n",
    "        elif i >= b:\n",
    "            output.append(0)\n",
    "        else:\n",
    "            output.append(1/(b-a))\n",
    "            \n",
    "    return np.asarray(output)\n",
    "\n",
    "def uniformDistributionCDF(a, b, x):\n",
    "    if a >= b:\n",
    "        raise Exception(\"a musst be smaller than b\")\n",
    "    output = []\n",
    "        \n",
    "    for i in x:\n",
    "        if i <= a:\n",
    "            output.append(0)\n",
    "        elif i >= b:\n",
    "            output.append(1)\n",
    "        else:\n",
    "            output.append((i-a)/(b-a))\n",
    "    \n",
    "    return np.asarray(output)\n",
    "\n",
    "def plotUniformDistribution(a, b):\n",
    "    x = np.linspace(0, 10, 100)\n",
    "    y = uniformDistributionPDF(a, b, x)\n",
    "    \n",
    "    for i in range(y.shape[0]-1):\n",
    "        if y[i]==0 and y[i+1]!=0:\n",
    "            y[i] = np.nan\n",
    "        elif y[i]!=0 and y[i+1]==0:\n",
    "            y[i+1] = np.nan\n",
    "            break\n",
    "    \n",
    "    fig, ax = plt.subplots(1, 2, figsize=(14, 6))\n",
    "    ax[0].plot(x, y, 'r')\n",
    "    ax[0].set_ylim(0, 1)\n",
    "#     ax[0].spines['left'].set_position('zero')\n",
    "    ax[0].spines['bottom'].set_position('zero')\n",
    "    ax[0].spines['right'].set_visible(False)\n",
    "    ax[0].spines['top'].set_visible(False)\n",
    "    \n",
    "    ax[1].plot(x, uniformDistributionCDF(a, b, x), 'r')\n",
    "    ax[1].spines['left'].set_position('zero')\n",
    "    ax[1].spines['bottom'].set_position('zero')\n",
    "    ax[1].spines['right'].set_visible(False)\n",
    "    ax[1].spines['top'].set_visible(False)\n",
    "    plt.show()"
   ]
  },
  {
   "cell_type": "code",
   "execution_count": 11,
   "metadata": {},
   "outputs": [
    {
     "data": {
      "application/vnd.jupyter.widget-view+json": {
       "model_id": "3dd70bb806ee493ab269bd39956e0189",
       "version_major": 2,
       "version_minor": 0
      },
      "text/plain": [
       "interactive(children=(FloatSlider(value=2.0, continuous_update=False, description='a', max=9.0, min=1.0), Floa…"
      ]
     },
     "metadata": {},
     "output_type": "display_data"
    }
   ],
   "source": [
    "iUniformPlot = interactive(plotUniformDistribution, \\\n",
    "                           a=FloatSlider(value=2, min=1, max=9, continuous_update=False), \\\n",
    "                           b=FloatSlider(value=5, min=2, max=10, continuous_update=False))\n",
    "iUniformPlot"
   ]
  },
  {
   "cell_type": "markdown",
   "metadata": {},
   "source": [
    "### Gaussian distribution"
   ]
  },
  {
   "cell_type": "code",
   "execution_count": 8,
   "metadata": {},
   "outputs": [],
   "source": [
    "# Gaussian distribution\n",
    "def gaussianDistribution(mu, sigma, x):\n",
    "    temp1 = 1/(np.sqrt(2*np.pi)*sigma)\n",
    "    temp2 = np.exp((-(x - mu)**2)/(2*sigma**2))\n",
    "\n",
    "    return temp1*temp2\n",
    "    \n",
    "def plotGaussianDistribution(mu, sigma):\n",
    "    x = np.linspace(-15, 15, 200)\n",
    "    \n",
    "    fig, ax = plt.subplots(1, 2, figsize=(14, 6))\n",
    "    ax[0].plot(x, gaussianDistribution(mu, sigma, x), 'r')\n",
    "    ax[0].set_ylim(0, 0.6)\n",
    "    ax[0].set_title(\"pdf\")\n",
    "    ax[0].spines['right'].set_visible(False)\n",
    "    ax[0].spines['top'].set_visible(False)\n",
    "    ax[1].plot(x, norm.cdf(x, mu, sigma), 'r')\n",
    "    ax[1].set_title(\"cdf\")\n",
    "    ax[1].spines['right'].set_visible(False)\n",
    "    ax[1].spines['top'].set_visible(False)\n",
    "    plt.show()"
   ]
  },
  {
   "cell_type": "code",
   "execution_count": 9,
   "metadata": {},
   "outputs": [
    {
     "data": {
      "application/vnd.jupyter.widget-view+json": {
       "model_id": "bb0a55f2ac52472386daef0040a93968",
       "version_major": 2,
       "version_minor": 0
      },
      "text/plain": [
       "interactive(children=(FloatSlider(value=1.0, continuous_update=False, description='mu', max=10.0, min=-10.0), …"
      ]
     },
     "metadata": {},
     "output_type": "display_data"
    }
   ],
   "source": [
    "iGaussianPlot = interactive(plotGaussianDistribution, \\\n",
    "                            mu=FloatSlider(value=1, min=-10, max=10, continuous_update=False), \\\n",
    "                            sigma=FloatSlider(value=0, min=1, max=10, continuous_update=False))\n",
    "iGaussianPlot"
   ]
  },
  {
   "cell_type": "code",
   "execution_count": null,
   "metadata": {},
   "outputs": [],
   "source": []
  }
 ],
 "metadata": {
  "kernelspec": {
   "display_name": "Python 3",
   "language": "python",
   "name": "python3"
  },
  "language_info": {
   "codemirror_mode": {
    "name": "ipython",
    "version": 3
   },
   "file_extension": ".py",
   "mimetype": "text/x-python",
   "name": "python",
   "nbconvert_exporter": "python",
   "pygments_lexer": "ipython3",
   "version": "3.7.3"
  }
 },
 "nbformat": 4,
 "nbformat_minor": 2
}
