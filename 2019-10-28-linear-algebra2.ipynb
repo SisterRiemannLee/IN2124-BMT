{
 "cells": [
  {
   "cell_type": "markdown",
   "metadata": {
    "slideshow": {
     "slide_type": "slide"
    }
   },
   "source": [
    "## Linear mappings and matrices"
   ]
  },
  {
   "cell_type": "code",
   "execution_count": 9,
   "metadata": {
    "slideshow": {
     "slide_type": "skip"
    }
   },
   "outputs": [],
   "source": [
    "# the required imports\n",
    "import numpy as np\n",
    "import matplotlib.pyplot as plt\n",
    "import matplotlib.ticker as ticker\n",
    "from skimage.transform import radon, rescale\n",
    "from ipywidgets import interactive\n",
    "import ipywidgets as widgets\n",
    "\n",
    "# set print options\n",
    "np.set_printoptions(precision=2)"
   ]
  },
  {
   "cell_type": "markdown",
   "metadata": {
    "slideshow": {
     "slide_type": "slide"
    }
   },
   "source": [
    "_setup some helper functions_"
   ]
  },
  {
   "cell_type": "code",
   "execution_count": 2,
   "metadata": {},
   "outputs": [],
   "source": [
    "# define rotation matrix by angle (in degrees)\n",
    "\n",
    "def getRotationMatrix(angleInDegrees):\n",
    "    angle = np.deg2rad(angleInDegrees)\n",
    "    R = np.array([[np.cos(angle), -np.sin(angle)],\n",
    "                  [np.sin(angle),  np.cos(angle)]])\n",
    "    return R\n",
    "\n",
    "def drawVectorsInCoordSystem(axes, vector1, vector2):\n",
    "    # setup coordinate system\n",
    "    axes.set_xlim(-1, 1); axes.set_ylim(-1, 1);\n",
    "    axes.spines['right'].set_visible(False); axes.spines['top'].set_visible(False)\n",
    "    axes.spines['left'].set_position('center'); axes.spines['bottom'].set_position('center')\n",
    "    axes.xaxis.set_major_locator(ticker.MaxNLocator(2))\n",
    "    axes.yaxis.set_major_locator(ticker.MaxNLocator(2))\n",
    "\n",
    "    # draw vectors as arrows\n",
    "    axes.arrow(0, 0, vector1[0], vector1[1], head_width=0.05, head_length=0.1, color='b')\n",
    "    axes.arrow(0, 0, vector2[0], vector2[1], head_width=0.05, head_length=0.1, color='r')\n"
   ]
  },
  {
   "cell_type": "markdown",
   "metadata": {
    "slideshow": {
     "slide_type": "slide"
    }
   },
   "source": [
    "### Rotating a vector"
   ]
  },
  {
   "cell_type": "code",
   "execution_count": 8,
   "metadata": {
    "slideshow": {
     "slide_type": "-"
    }
   },
   "outputs": [
    {
     "data": {
      "application/vnd.jupyter.widget-view+json": {
       "model_id": "8cd8d60910ec4a06b2e2a552b95b2253",
       "version_major": 2,
       "version_minor": 0
      },
      "text/plain": [
       "interactive(children=(IntSlider(value=45, continuous_update=False, description='phi', max=360), Output(layout=…"
      ]
     },
     "metadata": {},
     "output_type": "display_data"
    }
   ],
   "source": [
    "# visualize rotation by matrix R\n",
    "def rotate(phi):\n",
    "    vector = np.array([0.5, 0.5]) # original vector\n",
    "    R = getRotationMatrix(phi)    # the rotation matrix R\n",
    "    rotatedVector = R.dot(vector) # rotate the vector by applying matrix R\n",
    "\n",
    "    print(R)\n",
    "    plt.figure(figsize=(5,5))\n",
    "    drawVectorsInCoordSystem(plt.axes(), vector, rotatedVector)\n",
    "    plt.show()\n",
    "\n",
    "iplot = interactive(rotate, phi=widgets.IntSlider(min=0, max=360, step=1, value=45, continuous_update=False))\n",
    "output = iplot.children[-1]; \n",
    "output.layout.height = '350px' # make it flicker less\n",
    "iplot"
   ]
  },
  {
   "cell_type": "markdown",
   "metadata": {
    "slideshow": {
     "slide_type": "slide"
    }
   },
   "source": [
    "### Transforming images with linear mappings"
   ]
  },
  {
   "cell_type": "code",
   "execution_count": 4,
   "metadata": {
    "slideshow": {
     "slide_type": "skip"
    }
   },
   "outputs": [],
   "source": [
    "# helper function to load Shepp-Logan phantom \n",
    "\n",
    "def getPhantom(size):\n",
    "    if size == 128:\n",
    "        return plt.imread('phantom.png')\n",
    "    elif size == 4:\n",
    "        p = plt.imread('phantom.png')\n",
    "        return rescale(p, scale=1/32, mode='reflect', multichannel=False)\n",
    "    else:\n",
    "        raise NotImplementedError\n"
   ]
  },
  {
   "cell_type": "code",
   "execution_count": 5,
   "metadata": {},
   "outputs": [
    {
     "data": {
      "image/png": "[encoded data removed]",
      "text/plain": [
       "<Figure size 1008x432 with 2 Axes>"
      ]
     },
     "metadata": {
      "needs_background": "light"
     },
     "output_type": "display_data"
    }
   ],
   "source": [
    "# show Shepp-Logan phantom in various sizes\n",
    "plt.figure(figsize=(14,6))\n",
    "\n",
    "plt.subplot(1, 2, 1, title='128x128 version')\n",
    "plt.imshow( getPhantom(128) ); plt.axis('off')\n",
    "\n",
    "plt.subplot(1, 2, 2, title='4x4 version')\n",
    "plt.imshow( getPhantom(4) ); plt.axis('off')\n",
    "\n",
    "plt.show()"
   ]
  },
  {
   "cell_type": "markdown",
   "metadata": {
    "slideshow": {
     "slide_type": "slide"
    }
   },
   "source": [
    "### Fourier transform"
   ]
  },
  {
   "cell_type": "code",
   "execution_count": 6,
   "metadata": {},
   "outputs": [],
   "source": [
    "# compute the 2d Fourier transform (real part) of an image\n",
    "\n",
    "def get2dFFT(image):\n",
    "    result = np.fft.fftshift(np.fft.fft2(image)) \n",
    "    return np.real(result) # return only the real part"
   ]
  },
  {
   "cell_type": "code",
   "execution_count": 7,
   "metadata": {
    "slideshow": {
     "slide_type": "slide"
    }
   },
   "outputs": [
    {
     "data": {
      "image/png": "[encoded data removed]",
      "text/plain": [
       "<Figure size 1008x432 with 2 Axes>"
      ]
     },
     "metadata": {
      "needs_background": "light"
     },
     "output_type": "display_data"
    }
   ],
   "source": [
    "# visualize the 2d Fourier transform (real part) of the Shepp-Logan phantom\n",
    "plt.figure(figsize=(14,6))\n",
    "\n",
    "plt.subplot(1, 2, 1, title='128x128 Fourier transform')\n",
    "plt.imshow(get2dFFT(getPhantom(128))); plt.axis('off')\n",
    "\n",
    "plt.subplot(1, 2, 2, title='4x4 Fourier transform')\n",
    "plt.imshow(get2dFFT(getPhantom(4))); plt.axis('off')\n",
    "\n",
    "plt.show()"
   ]
  },
  {
   "cell_type": "markdown",
   "metadata": {
    "slideshow": {
     "slide_type": "slide"
    }
   },
   "source": [
    "### Radon transform"
   ]
  },
  {
   "cell_type": "code",
   "execution_count": 8,
   "metadata": {},
   "outputs": [
    {
     "data": {
      "application/vnd.jupyter.widget-view+json": {
       "model_id": "3e35ee6ee32541d0bd9ffd5fe35bcf5b",
       "version_major": 2,
       "version_minor": 0
      },
      "text/plain": [
       "interactive(children=(IntSlider(value=90, continuous_update=False, description='numProjections', max=180, min=…"
      ]
     },
     "metadata": {},
     "output_type": "display_data"
    }
   ],
   "source": [
    "# compute the 2d Radon transform\n",
    "def radonTransform(numProjections):\n",
    "    angles = np.linspace(0, 180, numProjections)\n",
    "    transform = radon(getPhantom(128), angles, circle=True)\n",
    "    \n",
    "    plt.figure(figsize=(7,6))\n",
    "    plt.title('Sinogram'); plt.xlabel('Projection angle'); plt.ylabel('Pixels')\n",
    "    plt.imshow(transform)\n",
    "    plt.show()\n",
    "\n",
    "iplot2 = interactive(radonTransform, numProjections=widgets.IntSlider(min=1, max=180, value=90, continuous_update=False))\n",
    "iplot2"
   ]
  },
  {
   "cell_type": "markdown",
   "metadata": {
    "slideshow": {
     "slide_type": "slide"
    }
   },
   "source": [
    "### Compute the Fourier transform as a matrix"
   ]
  },
  {
   "cell_type": "code",
   "execution_count": 10,
   "metadata": {},
   "outputs": [],
   "source": [
    "# compute the matrix of the Fourier transform\n",
    "\n",
    "def computeFtMatrix(image):\n",
    "    sizeX, sizeY = image.shape\n",
    "    size = image.size\n",
    "    \n",
    "    M = np.zeros((size, size)) # initialize matrix with zeros\n",
    "    basisVec = np.zeros(size)  # initialize basis vector with zeros\n",
    "    \n",
    "    for i in range(size):\n",
    "        basisVec[i] = 1                            # set to i-th basis vector\n",
    "        bVecAsImg = basisVec.reshape(sizeX, sizeY) # reshape to a 2d image\n",
    "        \n",
    "        column = get2dFFT(bVecAsImg)               # get 2d FFT of this basis vector\n",
    "        M[:, i] = column.flatten()                 # linearize and put into matrix as i-th column\n",
    "        \n",
    "        basisVec[i] = 0                            # reset basis vector to zero\n",
    "        \n",
    "    return M"
   ]
  },
  {
   "cell_type": "code",
   "execution_count": 11,
   "metadata": {
    "slideshow": {
     "slide_type": "slide"
    }
   },
   "outputs": [
    {
     "data": {
      "image/png": "[encoded data removed]",
      "text/plain": [
       "<Figure size 1008x432 with 2 Axes>"
      ]
     },
     "metadata": {
      "needs_background": "light"
     },
     "output_type": "display_data"
    }
   ],
   "source": [
    "# compute transformation matrix M\n",
    "phantomSmall = getPhantom(4)\n",
    "\n",
    "# apply the Fourier transform matrix\n",
    "M = computeFtMatrix(phantomSmall)\n",
    "size = phantomSmall.shape                       # save size\n",
    "resultMatrix = M.dot(phantomSmall.flatten())    # apply matrix M to linearized vector\n",
    "resultMatrix = resultMatrix.reshape(size)       # un-linearize the image\n",
    "\n",
    "plt.figure(figsize=(14,6))\n",
    "plt.subplot(1, 2, 1, title='via matrix')\n",
    "plt.imshow(resultMatrix); plt.axis('off')\n",
    "\n",
    "plt.subplot(1, 2, 2, title='via Fourier transform')\n",
    "plt.imshow(get2dFFT(phantomSmall)); plt.axis('off')\n",
    "plt.show()"
   ]
  },
  {
   "cell_type": "code",
   "execution_count": null,
   "metadata": {},
   "outputs": [],
   "source": []
  }
 ],
 "metadata": {
  "celltoolbar": "Slideshow",
  "kernelspec": {
   "display_name": "Python 3",
   "language": "python",
   "name": "python3"
  },
  "language_info": {
   "codemirror_mode": {
    "name": "ipython",
    "version": 3
   },
   "file_extension": ".py",
   "mimetype": "text/x-python",
   "name": "python",
   "nbconvert_exporter": "python",
   "pygments_lexer": "ipython3",
   "version": "3.7.3"
  }
 },
 "nbformat": 4,
 "nbformat_minor": 2
}
