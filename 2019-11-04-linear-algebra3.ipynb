{
 "cells": [
  {
   "cell_type": "markdown",
   "metadata": {
    "slideshow": {
     "slide_type": "slide"
    }
   },
   "source": [
    "## Lengths, distances, and angles"
   ]
  },
  {
   "cell_type": "code",
   "execution_count": 1,
   "metadata": {
    "slideshow": {
     "slide_type": "skip"
    }
   },
   "outputs": [],
   "source": [
    "# the required imports\n",
    "import numpy as np\n",
    "import matplotlib.pyplot as plt\n",
    "import matplotlib.ticker as ticker\n",
    "from matplotlib.lines import Line2D\n",
    "import ipywidgets\n",
    "from ipywidgets import interactive"
   ]
  },
  {
   "cell_type": "markdown",
   "metadata": {
    "slideshow": {
     "slide_type": "slide"
    }
   },
   "source": [
    "_setup some helper functions_"
   ]
  },
  {
   "cell_type": "code",
   "execution_count": 2,
   "metadata": {
    "slideshow": {
     "slide_type": "-"
    }
   },
   "outputs": [],
   "source": [
    "# helper functions\n",
    "\n",
    "# compute the p-norm of 2d vector (x,y)\n",
    "def getPNorm2d(p, x, y): \n",
    "    return ( np.abs(x)**p + np.abs(y)**p ) ** (1/p)\n",
    "\n",
    "# plot the 2d array points into axes\n",
    "def plot2dArray(pointsX, pointsY, axes, extent, format):\n",
    "    # setup coordinate system\n",
    "    axes.set_xlim(-extent, extent); axes.set_ylim(-extent, extent)\n",
    "    axes.spines['right'].set_visible(False); axes.spines['top'].set_visible(False)\n",
    "    axes.spines['left'].set_position('center'); axes.spines['bottom'].set_position('center')\n",
    "    axes.xaxis.set_major_locator(ticker.MaxNLocator(5))\n",
    "    axes.yaxis.set_major_locator(ticker.MaxNLocator(5))\n",
    "    \n",
    "    # draw the points\n",
    "    axes.plot(pointsX, pointsY, format)"
   ]
  },
  {
   "cell_type": "markdown",
   "metadata": {
    "slideshow": {
     "slide_type": "slide"
    }
   },
   "source": [
    "### Draw the unit circle according to $p$-norm\n",
    "\n",
    "The unit circle in $\\mathbb{R}^n$ according to the $p$-norm is\n",
    "$$ B_0(1) = \\big\\{ x\\in\\mathbb{R}^n: \\ \\|x\\|_p = 1 \\big\\} $$ "
   ]
  },
  {
   "cell_type": "code",
   "execution_count": 3,
   "metadata": {},
   "outputs": [
    {
     "data": {
      "application/vnd.jupyter.widget-view+json": {
       "model_id": "7bb6d2e65d6a44f6a108c05816708349",
       "version_major": 2,
       "version_minor": 0
      },
      "text/plain": [
       "interactive(children=(IntSlider(value=2, continuous_update=False, description='p', max=50, min=1), Output()), …"
      ]
     },
     "metadata": {},
     "output_type": "display_data"
    }
   ],
   "source": [
    "# draw the unit circle according to p-norm\n",
    "def unitCircle(p):\n",
    "    samples = 100\n",
    "    candX = np.linspace(-1, 1, samples); candY = np.linspace(-1, 1, samples) # candidate points\n",
    "    unitPoints = [] # array of points that lie on (or near) the unit circle\n",
    "    \n",
    "    for i in range(samples): # decide if points are on (or near) the unit circle\n",
    "        for j in range(samples):\n",
    "            value = getPNorm2d(p, candX[i], candY[j])\n",
    "            if (np.abs(value - 1) < 0.02): # close enough to 1\n",
    "                unitPoints.append( [candX[i], candY[j]] )\n",
    "    unitPoints = np.asarray(unitPoints)\n",
    "    \n",
    "    plt.figure(figsize=(7,7))\n",
    "    plot2dArray(unitPoints[:, 0], unitPoints[:, 1], plt.axes(), 1.25, 'bo')\n",
    "    plt.show()\n",
    "    \n",
    "iplot = interactive(unitCircle, p=ipywidgets.IntSlider(min=1, max=50, step=1, value=2, continuous_update=False))\n",
    "iplot"
   ]
  },
  {
   "cell_type": "markdown",
   "metadata": {
    "slideshow": {
     "slide_type": "slide"
    }
   },
   "source": [
    "### A linear equation system"
   ]
  },
  {
   "cell_type": "code",
   "execution_count": 4,
   "metadata": {
    "slideshow": {
     "slide_type": "-"
    }
   },
   "outputs": [],
   "source": [
    "# helper functions again\n",
    "\n",
    "def plot2dAffineHyperplanes(A, b, range, axes):\n",
    "    x = np.arange(-range, range, 2*range/1000)\n",
    "    y1 = (-A[0,0] * x + b[0]) / A[0,1]\n",
    "    y2 = (-A[1,0] * x + b[1]) / A[1,1]\n",
    "\n",
    "    plot2dArray(x, y1, axes, 10, 'b.')\n",
    "    plot2dArray(x, y2, axes, 10, 'g.')\n"
   ]
  },
  {
   "cell_type": "code",
   "execution_count": 5,
   "metadata": {
    "slideshow": {
     "slide_type": "slide"
    }
   },
   "outputs": [
    {
     "data": {
      "image/png": "[encoded data removed]",
      "text/plain": [
       "<Figure size 720x720 with 1 Axes>"
      ]
     },
     "metadata": {
      "needs_background": "light"
     },
     "output_type": "display_data"
    }
   ],
   "source": [
    "# define a linear system\n",
    "\n",
    "A = np.array([ [2, -1],\n",
    "               [3, 1] ])\n",
    "\n",
    "b = np.array([-3, 1]).T\n",
    "\n",
    "plt.figure(figsize=(10,10)); axes = plt.axes()\n",
    "plot2dAffineHyperplanes(A, b, 5, axes)\n",
    "plt.show()"
   ]
  }
 ],
 "metadata": {
  "celltoolbar": "Slideshow",
  "kernelspec": {
   "display_name": "Python 3",
   "language": "python",
   "name": "python3"
  },
  "language_info": {
   "codemirror_mode": {
    "name": "ipython",
    "version": 3
   },
   "file_extension": ".py",
   "mimetype": "text/x-python",
   "name": "python",
   "nbconvert_exporter": "python",
   "pygments_lexer": "ipython3",
   "version": "3.7.3"
  }
 },
 "nbformat": 4,
 "nbformat_minor": 2
}
